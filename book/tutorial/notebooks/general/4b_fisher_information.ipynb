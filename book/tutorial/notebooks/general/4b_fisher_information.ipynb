{
 "cells": [
  {
   "cell_type": "markdown",
   "metadata": {},
   "source": [
    "# MadMiner physics tutorial (part 4B)\n",
    "\n",
    "Johann Brehmer, Felix Kling, Irina Espejo, and Kyle Cranmer 2018-2019"
   ]
  },
  {
   "cell_type": "markdown",
   "metadata": {},
   "source": [
    "## 0. Preparations"
   ]
  },
  {
   "cell_type": "code",
   "execution_count": 1,
   "metadata": {},
   "outputs": [],
   "source": [
    "import logging\n",
    "import numpy as np\n",
    "import matplotlib\n",
    "from matplotlib import pyplot as plt\n",
    "%matplotlib inline\n",
    "\n",
    "from madminer.fisherinformation import FisherInformation\n",
    "from madminer.plotting import plot_fisher_information_contours_2d\n"
   ]
  },
  {
   "cell_type": "code",
   "execution_count": 2,
   "metadata": {},
   "outputs": [],
   "source": [
    "# MadMiner output\n",
    "logging.basicConfig(\n",
    "    format='%(asctime)-5.5s %(name)-20.20s %(levelname)-7.7s %(message)s',\n",
    "    datefmt='%H:%M',\n",
    "    level=logging.INFO\n",
    ")\n",
    "\n",
    "# Output of all other modules (e.g. matplotlib)\n",
    "for key in logging.Logger.manager.loggerDict:\n",
    "    if \"madminer\" not in key:\n",
    "        logging.getLogger(key).setLevel(logging.WARNING)"
   ]
  },
  {
   "cell_type": "markdown",
   "metadata": {},
   "source": [
    "## 1. Calculating the Fisher information from a SALLY model"
   ]
  },
  {
   "cell_type": "markdown",
   "metadata": {},
   "source": [
    "We can use SALLY estimators (see part 3b of this tutorial) not just to define optimal observables, but also to calculate the (expected) Fisher information in a process. In `madminer.fisherinformation` we provide the `FisherInformation` class that makes this more convenient."
   ]
  },
  {
   "cell_type": "code",
   "execution_count": 3,
   "metadata": {},
   "outputs": [
    {
     "name": "stderr",
     "output_type": "stream",
     "text": [
      "22:20 madminer.analysis    INFO    Loading data from data/lhe_data_shuffled.h5\n",
      "22:20 madminer.analysis    INFO    Found 2 parameters\n",
      "22:20 madminer.analysis    INFO    Did not find nuisance parameters\n",
      "22:20 madminer.analysis    INFO    Found 6 benchmarks, of which 6 physical\n",
      "22:20 madminer.analysis    INFO    Found 3 observables\n",
      "22:20 madminer.analysis    INFO    Found 89991 events\n",
      "22:20 madminer.analysis    INFO      49991 signal events sampled from benchmark sm\n",
      "22:20 madminer.analysis    INFO      10000 signal events sampled from benchmark w\n",
      "22:20 madminer.analysis    INFO      10000 signal events sampled from benchmark neg_w\n",
      "22:20 madminer.analysis    INFO      10000 signal events sampled from benchmark ww\n",
      "22:20 madminer.analysis    INFO      10000 signal events sampled from benchmark neg_ww\n",
      "22:20 madminer.analysis    INFO    Found morphing setup with 6 components\n",
      "22:20 madminer.analysis    INFO    Did not find nuisance morphing setup\n"
     ]
    }
   ],
   "source": [
    "fisher = FisherInformation('data/lhe_data_shuffled.h5')\n",
    "# fisher = FisherInformation('data/delphes_data_shuffled.h5')"
   ]
  },
  {
   "cell_type": "markdown",
   "metadata": {},
   "source": [
    "This class provides different functions:\n",
    "- `rate_information()` calculates the Fisher information in total rates,\n",
    "- `histo_information()` calculates the Fisher information in 1D histograms,\n",
    "- `histo_information_2d()` calculates the Fisher information in 2D histograms,\n",
    "- `full_information()` calculates the full detector-level Fisher information using a SALLY estimator, and\n",
    "- `truth_information()` calculates the truth-level Fisher information.\n",
    "\n",
    "Here we use the SALLY approach:"
   ]
  },
  {
   "cell_type": "code",
   "execution_count": 4,
   "metadata": {},
   "outputs": [
    {
     "name": "stderr",
     "output_type": "stream",
     "text": [
      "22:20 madminer.ml          INFO    Loading model from models/sally\n",
      "22:20 madminer.fisherinfor INFO    Found 2 parameters in Score Estimator model, matching 2 physical parameters in MadMiner file\n",
      "22:20 madminer.fisherinfor INFO    Evaluating rate Fisher information\n",
      "22:20 madminer.fisherinfor INFO    Evaluating kinematic Fisher information on batch 1 / 1\n",
      "22:20 madminer.ml          INFO    Loading evaluation data\n",
      "22:20 madminer.ml          INFO    Starting score evaluation\n",
      "22:20 madminer.ml          INFO    Calculating Fisher information\n"
     ]
    },
    {
     "name": "stdout",
     "output_type": "stream",
     "text": [
      "Fisher information after 300 ifb:\n",
      "[[154.2065932    7.58469138]\n",
      " [  7.58469138 114.22734665]]\n"
     ]
    }
   ],
   "source": [
    "info_sally, _ = fisher.full_information(\n",
    "    theta=[0.,0.],\n",
    "    model_file='models/sally',\n",
    "    luminosity=300.*1000.,\n",
    ")\n",
    "\n",
    "print('Fisher information after 300 ifb:\\n{}'.format(info_sally))"
   ]
  },
  {
   "cell_type": "markdown",
   "metadata": {},
   "source": [
    "For comparison, we can calculate the Fisher information in the histogram of observables:"
   ]
  },
  {
   "cell_type": "code",
   "execution_count": 5,
   "metadata": {},
   "outputs": [
    {
     "name": "stderr",
     "output_type": "stream",
     "text": [
      "22:20 madminer.fisherinfor INFO    Bins with largest statistical uncertainties on rates:\n",
      "22:20 madminer.fisherinfor INFO      Bin 1: (0.01611 +/- 0.00227) fb (14 %)\n",
      "22:20 madminer.fisherinfor INFO      Bin 5: (0.00608 +/- 0.00022) fb (4 %)\n",
      "22:20 madminer.fisherinfor INFO      Bin 2: (0.61234 +/- 0.01392) fb (2 %)\n",
      "22:20 madminer.fisherinfor INFO      Bin 3: (0.33775 +/- 0.00763) fb (2 %)\n",
      "22:20 madminer.fisherinfor INFO      Bin 4: (0.07152 +/- 0.00115) fb (2 %)\n"
     ]
    },
    {
     "name": "stdout",
     "output_type": "stream",
     "text": [
      "Histogram Fisher information after 300 ifb:\n",
      "[[121.76127418   4.08193078]\n",
      " [  4.08193078   0.20594473]]\n"
     ]
    }
   ],
   "source": [
    "info_histo_1d, cov_histo_1d = fisher.histo_information(\n",
    "    theta=[0.,0.],\n",
    "    luminosity=300.*1000.,\n",
    "    observable=\"pt_j1\",\n",
    "    bins=[30.,100.,200.,400.],\n",
    "    histrange=[30.,400.],\n",
    ")\n",
    "\n",
    "print('Histogram Fisher information after 300 ifb:\\n{}'.format(info_histo_1d))"
   ]
  },
  {
   "cell_type": "markdown",
   "metadata": {},
   "source": [
    "We can do the same thing in 2D:"
   ]
  },
  {
   "cell_type": "code",
   "execution_count": 6,
   "metadata": {},
   "outputs": [
    {
     "name": "stderr",
     "output_type": "stream",
     "text": [
      "22:20 madminer.fisherinfor INFO    Bins with largest statistical uncertainties on rates:\n",
      "22:20 madminer.fisherinfor INFO      Bin (1, 2): (0.00343 +/- 0.00122) fb (36 %)\n",
      "22:20 madminer.fisherinfor INFO      Bin (1, 3): (0.00300 +/- 0.00069) fb (23 %)\n",
      "22:20 madminer.fisherinfor INFO      Bin (1, 1): (0.00862 +/- 0.00178) fb (21 %)\n",
      "22:20 madminer.fisherinfor INFO      Bin (1, 4): (0.00106 +/- 0.00020) fb (19 %)\n",
      "22:20 madminer.fisherinfor INFO      Bin (3, 4): (0.05622 +/- 0.00607) fb (11 %)\n"
     ]
    },
    {
     "name": "stdout",
     "output_type": "stream",
     "text": [
      "Histogram Fisher information after 300 ifb:\n",
      "[[134.22651878   5.81184852]\n",
      " [  5.81184852  88.64608542]]\n"
     ]
    },
    {
     "name": "stderr",
     "output_type": "stream",
     "text": [
      "/home/shared/madminer/madminer/fisherinformation.py:1187: RuntimeWarning: divide by zero encountered in true_divide\n",
      "  inv_sigma = sanitize_array(1.0 / sigma)  # Shape (n_events,)\n"
     ]
    }
   ],
   "source": [
    "info_histo_2d, cov_histo_2d = fisher.histo_information_2d(\n",
    "    theta=[0.,0.],\n",
    "    luminosity=300.*1000.,\n",
    "    observable1=\"pt_j1\",\n",
    "    bins1=[30.,100.,200.,400.],\n",
    "    histrange1=[30.,400.],\n",
    "    observable2=\"delta_phi_jj\",\n",
    "    bins2=5,\n",
    "    histrange2=[0,6.2],\n",
    ")\n",
    "\n",
    "print('Histogram Fisher information after 300 ifb:\\n{}'.format(info_histo_2d))"
   ]
  },
  {
   "cell_type": "markdown",
   "metadata": {},
   "source": [
    "## 2. Calculating the Fisher information from a SALLY model"
   ]
  },
  {
   "cell_type": "markdown",
   "metadata": {},
   "source": [
    "We can also calculate the Fisher Information using an ALICES model"
   ]
  },
  {
   "cell_type": "code",
   "execution_count": 7,
   "metadata": {},
   "outputs": [
    {
     "name": "stderr",
     "output_type": "stream",
     "text": [
      "22:20 madminer.ml          INFO    Loading model from models/alices\n",
      "22:20 madminer.fisherinfor INFO    Found 2 parameters in Parameterized Ratio Estimator model, matching 2 physical parameters in MadMiner file\n",
      "22:20 madminer.fisherinfor INFO    Evaluating rate Fisher information\n",
      "22:20 madminer.fisherinfor INFO    Evaluating kinematic Fisher information on batch 1 / 1\n",
      "22:20 madminer.ml          INFO    Loading evaluation data\n",
      "22:20 madminer.ml          INFO    Loading evaluation data\n",
      "22:20 madminer.ml          INFO    Starting ratio evaluation\n",
      "22:20 madminer.ml          INFO    Evaluation done\n",
      "22:20 madminer.ml          INFO    Calculating Fisher information\n"
     ]
    },
    {
     "name": "stdout",
     "output_type": "stream",
     "text": [
      "Fisher information using ALICES after 300 ifb:\n",
      "[[123.61310981  -1.26192061]\n",
      " [ -1.26192061  98.31902823]]\n"
     ]
    }
   ],
   "source": [
    "info_alices, _ = fisher.full_information(\n",
    "    theta=[0.,0.],\n",
    "    model_file='models/alices',\n",
    "    luminosity=300.*1000.,\n",
    ")\n",
    "\n",
    "print('Fisher information using ALICES after 300 ifb:\\n{}'.format(info_alices))"
   ]
  },
  {
   "cell_type": "markdown",
   "metadata": {},
   "source": [
    "## 3. Plot Fisher distances"
   ]
  },
  {
   "cell_type": "markdown",
   "metadata": {},
   "source": [
    "We also provide a convenience function to plot contours of constant Fisher distance `d^2(theta, theta_ref) = I_ij(theta_ref) * (theta-theta_ref)_i * (theta-theta_ref)_j`:"
   ]
  },
  {
   "cell_type": "code",
   "execution_count": 8,
   "metadata": {},
   "outputs": [
    {
     "name": "stderr",
     "output_type": "stream",
     "text": [
      "/usr/local/lib/python2.7/dist-packages/matplotlib/contour.py:1006: UserWarning: The following kwargs were not used by contour: 'label'\n",
      "  s)\n",
      "/usr/local/lib/python2.7/dist-packages/matplotlib/cbook/deprecation.py:107: MatplotlibDeprecationWarning: Adding an axes using the same arguments as a previous axes currently reuses the earlier instance.  In a future version, a new instance will always be created and returned.  Meanwhile, this warning can be suppressed, and the future behavior ensured, by passing a unique label to each axes instance.\n",
      "  warnings.warn(message, mplDeprecation, stacklevel=1)\n"
     ]
    },
    {
     "data": {
      "image/png": "[encoded data removed]",
      "text/plain": [
       "<Figure size 360x360 with 1 Axes>"
      ]
     },
     "metadata": {
      "needs_background": "light"
     },
     "output_type": "display_data"
    }
   ],
   "source": [
    "_ = plot_fisher_information_contours_2d(\n",
    "    [info_sally, info_histo_1d, info_histo_2d,info_alices],\n",
    "    [None, cov_histo_1d, cov_histo_2d,None],\n",
    "    inline_labels=[\"SALLY\", \"1d\", \"2d\",\"ALICES\"],\n",
    "    xrange=(-0.3,0.3),\n",
    "    yrange=(-0.3,0.3)\n",
    ")"
   ]
  }
 ],
 "metadata": {
  "kernelspec": {
   "display_name": "Python 3",
   "language": "python",
   "name": "python3"
  },
  "language_info": {
   "codemirror_mode": {
    "name": "ipython",
    "version": 3
   },
   "file_extension": ".py",
   "mimetype": "text/x-python",
   "name": "python",
   "nbconvert_exporter": "python",
   "pygments_lexer": "ipython3",
   "version": "3.8.2"
  }
 },
 "nbformat": 4,
 "nbformat_minor": 2
}
