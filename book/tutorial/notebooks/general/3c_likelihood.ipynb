{
 "cells": [
  {
   "cell_type": "markdown",
   "metadata": {},
   "source": [
    "# MadMiner physics tutorial (part 3C)\n",
    "\n",
    "Johann Brehmer, Felix Kling, Irina Espejo, and Kyle Cranmer 2018-2019"
   ]
  },
  {
   "cell_type": "markdown",
   "metadata": {},
   "source": [
    "In part 3C of this tutorial we will train a third neural estimator: this time of the likelihood function itself (rather than its ratio). We assume that you have run part 1 and 2A of this tutorial. If, instead of 2A, you have run part 2B, you just have to load a different filename later."
   ]
  },
  {
   "cell_type": "markdown",
   "metadata": {},
   "source": [
    "## Preparations"
   ]
  },
  {
   "cell_type": "code",
   "execution_count": 1,
   "metadata": {},
   "outputs": [],
   "source": [
    "import logging\n",
    "import numpy as np\n",
    "import matplotlib\n",
    "from matplotlib import pyplot as plt\n",
    "%matplotlib inline\n",
    "\n",
    "from madminer.sampling import SampleAugmenter\n",
    "from madminer import sampling\n",
    "from madminer.ml import LikelihoodEstimator\n"
   ]
  },
  {
   "cell_type": "code",
   "execution_count": 2,
   "metadata": {},
   "outputs": [],
   "source": [
    "# MadMiner output\n",
    "logging.basicConfig(\n",
    "    format='%(asctime)-5.5s %(name)-20.20s %(levelname)-7.7s %(message)s',\n",
    "    datefmt='%H:%M',\n",
    "    level=logging.INFO\n",
    ")\n",
    "\n",
    "# Output of all other modules (e.g. matplotlib)\n",
    "for key in logging.Logger.manager.loggerDict:\n",
    "    if \"madminer\" not in key:\n",
    "        logging.getLogger(key).setLevel(logging.WARNING)"
   ]
  },
  {
   "cell_type": "markdown",
   "metadata": {},
   "source": [
    "## 1. Make (unweighted) training and test samples with augmented data"
   ]
  },
  {
   "cell_type": "markdown",
   "metadata": {},
   "source": [
    "At this point, we have all the information we need from the simulations. But the data is not quite ready to be used for machine learning. The `madminer.sampling` class `SampleAugmenter` will take care of the remaining book-keeping steps before we can train our estimators:\n",
    "\n",
    "First, it unweights the samples, i.e. for a given parameter vector `theta` (or a distribution `p(theta)`) it picks events `x` such that their distribution follows `p(x|theta)`. The selected samples will all come from the event file we have so far, but their frequency is changed -- some events will appear multiple times, some will disappear.\n",
    "\n",
    "Second, `SampleAugmenter` calculates all the augmented data (\"gold\") that is the key to our new inference methods. Depending on the specific technique, these are the joint likelihood ratio and / or the joint score. It saves all these pieces of information for the selected events in a set of numpy files that can easily be used in any machine learning framework."
   ]
  },
  {
   "cell_type": "code",
   "execution_count": 3,
   "metadata": {},
   "outputs": [
    {
     "name": "stderr",
     "output_type": "stream",
     "text": [
      "03:42 madminer.analysis    INFO    Loading data from data/lhe_data_shuffled.h5\n",
      "03:42 madminer.analysis    INFO    Found 2 parameters\n",
      "03:42 madminer.analysis    INFO    Did not find nuisance parameters\n",
      "03:42 madminer.analysis    INFO    Found 6 benchmarks, of which 6 physical\n",
      "03:42 madminer.analysis    INFO    Found 3 observables\n",
      "03:42 madminer.analysis    INFO    Found 89991 events\n",
      "03:42 madminer.analysis    INFO      49991 signal events sampled from benchmark sm\n",
      "03:42 madminer.analysis    INFO      10000 signal events sampled from benchmark w\n",
      "03:42 madminer.analysis    INFO      10000 signal events sampled from benchmark neg_w\n",
      "03:42 madminer.analysis    INFO      10000 signal events sampled from benchmark ww\n",
      "03:42 madminer.analysis    INFO      10000 signal events sampled from benchmark neg_ww\n",
      "03:42 madminer.analysis    INFO    Found morphing setup with 6 components\n",
      "03:42 madminer.analysis    INFO    Did not find nuisance morphing setup\n"
     ]
    }
   ],
   "source": [
    "sampler = SampleAugmenter('data/lhe_data_shuffled.h5')\n",
    "# sampler = SampleAugmenter('data/delphes_data_shuffled.h5')"
   ]
  },
  {
   "cell_type": "markdown",
   "metadata": {},
   "source": [
    "The `SampleAugmenter` class defines five different high-level functions to generate train or test samples:\n",
    "- `sample_train_plain()`, which only saves observations x, for instance for histograms or ABC;\n",
    "- `sample_train_local()` for methods like SALLY and SALLINO, which will be demonstrated in the second part of the tutorial;\n",
    "- `sample_train_density()` for neural density estimation techniques like MAF or SCANDAL;\n",
    "- `sample_train_ratio()` for techniques like CARL, ROLR, CASCAL, and RASCAL, when only theta0 is parameterized;\n",
    "- `sample_train_more_ratios()` for the same techniques, but with both theta0 and theta1 parameterized;\n",
    "- `sample_test()` for the evaluation of any method.\n",
    "\n",
    "For the arguments `theta`, `theta0`, or `theta1`, you can (and should!) use the helper functions `benchmark()`, `benchmarks()`, `morphing_point()`, `morphing_points()`, and `random_morphing_points()`, all defined in the `madminer.sampling` module.\n",
    "\n",
    "Here we'll train a likelihood estimator with the SCANDAL method, so we focus on the `extract_samples_train_density()` function. We'll sample the numerator hypothesis in the likelihood ratio with 1000 points drawn from a Gaussian prior, and fix the denominator hypothesis to the SM.\n",
    "\n",
    "Note the keyword `sample_only_from_closest_benchmark=True`, which makes sure that for each parameter point we only use the events that were originally (in MG) generated from the closest benchmark. This reduces the statistical fluctuations in the outcome quite a bit."
   ]
  },
  {
   "cell_type": "code",
   "execution_count": 4,
   "metadata": {},
   "outputs": [
    {
     "name": "stderr",
     "output_type": "stream",
     "text": [
      "03:42 madminer.sampling    INFO    Extracting training sample for non-local score-based methods. Sampling and score evaluation according to (u'random_morphing_points', (10000, [(u'gaussian', 0.0, 0.5), (u'gaussian', 0.0, 0.5)]))\n",
      "03:42 madminer.sampling    INFO    Starting sampling serially\n",
      "03:42 madminer.sampling    WARNING Large statistical uncertainty on the total cross section when sampling from theta = [0.58710176 1.2685223 ]: (0.001242 +/- 0.000441) pb (35.5351101412644 %). Skipping these warnings in the future...\n",
      "03:43 madminer.sampling    INFO    Sampling from parameter point 500 / 10000\n",
      "03:43 madminer.sampling    INFO    Sampling from parameter point 1000 / 10000\n",
      "03:44 madminer.sampling    INFO    Sampling from parameter point 1500 / 10000\n",
      "03:45 madminer.sampling    INFO    Sampling from parameter point 2000 / 10000\n",
      "03:45 madminer.sampling    INFO    Sampling from parameter point 2500 / 10000\n",
      "03:47 madminer.sampling    INFO    Sampling from parameter point 3000 / 10000\n",
      "03:48 madminer.sampling    INFO    Sampling from parameter point 3500 / 10000\n",
      "03:48 madminer.sampling    INFO    Sampling from parameter point 4000 / 10000\n",
      "03:49 madminer.sampling    WARNING For this value of theta, 1 / 29993 events have negative weight and will be ignored\n",
      "03:49 madminer.sampling    INFO    Sampling from parameter point 4500 / 10000\n",
      "03:50 madminer.sampling    INFO    Sampling from parameter point 5000 / 10000\n",
      "03:50 madminer.sampling    INFO    Sampling from parameter point 5500 / 10000\n",
      "03:51 madminer.sampling    INFO    Sampling from parameter point 6000 / 10000\n",
      "03:52 madminer.sampling    INFO    Sampling from parameter point 6500 / 10000\n",
      "03:53 madminer.sampling    INFO    Sampling from parameter point 7000 / 10000\n",
      "03:53 madminer.sampling    INFO    Sampling from parameter point 7500 / 10000\n",
      "03:54 madminer.sampling    INFO    Sampling from parameter point 8000 / 10000\n",
      "04:55 madminer.sampling    INFO    Sampling from parameter point 8500 / 10000\n",
      "05:16 madminer.sampling    INFO    Sampling from parameter point 9000 / 10000\n",
      "05:17 madminer.sampling    INFO    Sampling from parameter point 9500 / 10000\n",
      "05:18 madminer.sampling    INFO    Sampling from parameter point 10000 / 10000\n",
      "05:18 madminer.sampling    INFO    Effective number of samples: mean 637.1639228954328, with individual thetas ranging from 11.197537298152856 to 28628.63290722551\n"
     ]
    }
   ],
   "source": [
    "x, theta, t_xz, _ = sampler.sample_train_density(\n",
    "    theta=sampling.random_morphing_points(10000, [('gaussian', 0., 0.5), ('gaussian', 0., 0.5)]),\n",
    "    n_samples=500000,\n",
    "    folder='./data/samples',\n",
    "    filename='train_density',\n",
    "    sample_only_from_closest_benchmark=True,\n",
    ")"
   ]
  },
  {
   "cell_type": "markdown",
   "metadata": {},
   "source": [
    "For the evaluation we'll need a test sample:"
   ]
  },
  {
   "cell_type": "code",
   "execution_count": 5,
   "metadata": {
    "scrolled": true
   },
   "outputs": [
    {
     "name": "stderr",
     "output_type": "stream",
     "text": [
      "05:18 madminer.sampling    INFO    Extracting evaluation sample. Sampling according to sm\n",
      "05:18 madminer.sampling    INFO    Starting sampling serially\n",
      "05:18 madminer.sampling    INFO    Sampling from parameter point 1 / 1\n",
      "05:18 madminer.sampling    INFO    Effective number of samples: mean 10015.0, with individual thetas ranging from 10015.0 to 10015.0\n"
     ]
    }
   ],
   "source": [
    "_ = sampler.sample_test(\n",
    "    theta=sampling.benchmark('sm'),\n",
    "    n_samples=1000,\n",
    "    folder='./data/samples',\n",
    "    filename='test'\n",
    ")"
   ]
  },
  {
   "cell_type": "markdown",
   "metadata": {},
   "source": [
    "## 2. Train likelihood estimator"
   ]
  },
  {
   "cell_type": "markdown",
   "metadata": {},
   "source": [
    "It's now time to build the neural network that estimates the likelihood ratio. The central object for this is the `madminer.ml.ParameterizedRatioEstimator` class. It defines functions that train, save, load, and evaluate the estimators.\n",
    "\n",
    "In the initialization, the keywords `n_hidden` and `activation` define the architecture of the (fully connected) neural network:"
   ]
  },
  {
   "cell_type": "code",
   "execution_count": 6,
   "metadata": {},
   "outputs": [],
   "source": [
    "estimator = LikelihoodEstimator(\n",
    "    n_mades=3,\n",
    "    n_hidden=(60,60),\n",
    "    activation=\"relu\"\n",
    ")"
   ]
  },
  {
   "cell_type": "markdown",
   "metadata": {},
   "source": [
    "To train this model we will minimize the SCANDAL loss function described in [\"Mining gold from implicit models to improve likelihood-free inference\"](https://arxiv.org/abs/1805.12244)."
   ]
  },
  {
   "cell_type": "code",
   "execution_count": 7,
   "metadata": {},
   "outputs": [
    {
     "name": "stderr",
     "output_type": "stream",
     "text": [
      "05:18 madminer.ml          INFO    Starting training\n",
      "05:18 madminer.ml          INFO      Method:                 scandal\n",
      "05:18 madminer.ml          INFO      alpha:                  10.0\n",
      "05:18 madminer.ml          INFO      Batch size:             128\n",
      "05:18 madminer.ml          INFO      Optimizer:              amsgrad\n",
      "05:18 madminer.ml          INFO      Epochs:                 10\n",
      "05:18 madminer.ml          INFO      Learning rate:          0.01 initially, decaying to 0.0001\n",
      "05:18 madminer.ml          INFO      Validation split:       0.25\n",
      "05:18 madminer.ml          INFO      Early stopping:         True\n",
      "05:18 madminer.ml          INFO      Scale inputs:           True\n",
      "05:18 madminer.ml          INFO      Shuffle labels          False\n",
      "05:18 madminer.ml          INFO      Samples:                all\n",
      "05:18 madminer.ml          INFO    Loading training data\n",
      "05:18 madminer.utils.vario INFO      Loading data/samples/theta_train_density.npy into RAM\n",
      "05:18 madminer.utils.vario INFO      Loading data/samples/x_train_density.npy into RAM\n",
      "05:18 madminer.utils.vario INFO      Loading data/samples/t_xz_train_density.npy into RAM\n",
      "05:18 madminer.ml          INFO    Found 500000 samples with 2 parameters and 3 observables\n",
      "05:18 madminer.ml          INFO    Setting up input rescaling\n",
      "05:18 madminer.ml          INFO    Rescaling parameters\n",
      "05:18 madminer.ml          INFO    Setting up parameter rescaling\n",
      "05:18 madminer.ml          INFO    Training model\n",
      "05:18 madminer.utils.ml.tr INFO    Training on CPU with single precision\n",
      "05:19 madminer.utils.ml.tr INFO      Epoch   1: train loss  4.92008 (nll:  3.866, mse_score:  0.105)\n",
      "05:19 madminer.utils.ml.tr INFO                 val. loss   4.88054 (nll:  3.877, mse_score:  0.100)\n",
      "05:20 madminer.utils.ml.tr INFO      Epoch   2: train loss  4.81460 (nll:  3.866, mse_score:  0.095)\n",
      "05:20 madminer.utils.ml.tr INFO                 val. loss   4.74922 (nll:  3.872, mse_score:  0.088)\n",
      "05:21 madminer.utils.ml.tr INFO      Epoch   3: train loss  4.70997 (nll:  3.839, mse_score:  0.087)\n",
      "05:21 madminer.utils.ml.tr INFO                 val. loss   4.68496 (nll:  3.835, mse_score:  0.085)\n",
      "05:22 madminer.utils.ml.tr INFO      Epoch   4: train loss  4.66875 (nll:  3.823, mse_score:  0.085)\n",
      "05:22 madminer.utils.ml.tr INFO                 val. loss   4.61774 (nll:  3.826, mse_score:  0.079)\n",
      "05:23 madminer.utils.ml.tr INFO      Epoch   5: train loss  4.62898 (nll:  3.815, mse_score:  0.081)\n",
      "05:23 madminer.utils.ml.tr INFO                 val. loss   4.59818 (nll:  3.813, mse_score:  0.078)\n",
      "05:24 madminer.utils.ml.tr INFO      Epoch   6: train loss  4.60716 (nll:  3.809, mse_score:  0.080)\n",
      "05:24 madminer.utils.ml.tr INFO                 val. loss   4.59749 (nll:  3.814, mse_score:  0.078)\n",
      "05:25 madminer.utils.ml.tr INFO      Epoch   7: train loss  4.59577 (nll:  3.806, mse_score:  0.079)\n",
      "05:25 madminer.utils.ml.tr INFO                 val. loss   4.57310 (nll:  3.807, mse_score:  0.077)\n",
      "05:26 madminer.utils.ml.tr INFO      Epoch   8: train loss  4.58374 (nll:  3.806, mse_score:  0.078)\n",
      "05:26 madminer.utils.ml.tr INFO                 val. loss   4.56814 (nll:  3.808, mse_score:  0.076)\n",
      "05:27 madminer.utils.ml.tr INFO      Epoch   9: train loss  4.58109 (nll:  3.804, mse_score:  0.078)\n",
      "05:27 madminer.utils.ml.tr INFO                 val. loss   4.56638 (nll:  3.807, mse_score:  0.076)\n",
      "05:28 madminer.utils.ml.tr INFO      Epoch  10: train loss  4.57864 (nll:  3.804, mse_score:  0.077)\n",
      "05:28 madminer.utils.ml.tr INFO                 val. loss   4.56464 (nll:  3.806, mse_score:  0.076)\n",
      "05:28 madminer.utils.ml.tr INFO    Early stopping did not improve performance\n",
      "05:28 madminer.utils.ml.tr INFO    Training time spend on:\n",
      "05:28 madminer.utils.ml.tr INFO                      initialize model:   0.00h\n",
      "05:28 madminer.utils.ml.tr INFO                                   ALL:   0.16h\n",
      "05:28 madminer.utils.ml.tr INFO                            check data:   0.00h\n",
      "05:28 madminer.utils.ml.tr INFO                          make dataset:   0.00h\n",
      "05:28 madminer.utils.ml.tr INFO                       make dataloader:   0.00h\n",
      "05:28 madminer.utils.ml.tr INFO                       setup optimizer:   0.00h\n",
      "05:28 madminer.utils.ml.tr INFO                   initialize training:   0.00h\n",
      "05:28 madminer.utils.ml.tr INFO                                set lr:   0.00h\n",
      "05:28 madminer.utils.ml.tr INFO                   load training batch:   0.02h\n",
      "05:28 madminer.utils.ml.tr INFO                        fwd: move data:   0.00h\n",
      "05:28 madminer.utils.ml.tr INFO                   fwd: check for nans:   0.01h\n",
      "05:28 madminer.utils.ml.tr INFO                    fwd: model.forward:   0.06h\n",
      "05:28 madminer.utils.ml.tr INFO                 fwd: calculate losses:   0.00h\n",
      "05:28 madminer.utils.ml.tr INFO                 training forward pass:   0.06h\n",
      "05:28 madminer.utils.ml.tr INFO                   training sum losses:   0.00h\n",
      "05:28 madminer.utils.ml.tr INFO                        opt: zero grad:   0.00h\n",
      "05:28 madminer.utils.ml.tr INFO                         opt: backward:   0.04h\n",
      "05:28 madminer.utils.ml.tr INFO                   opt: clip grad norm:   0.00h\n",
      "05:28 madminer.utils.ml.tr INFO                             opt: step:   0.01h\n",
      "05:28 madminer.utils.ml.tr INFO                        optimizer step:   0.06h\n",
      "05:28 madminer.utils.ml.tr INFO                 load validation batch:   0.01h\n",
      "05:28 madminer.utils.ml.tr INFO               validation forward pass:   0.02h\n",
      "05:28 madminer.utils.ml.tr INFO                 validation sum losses:   0.00h\n",
      "05:28 madminer.utils.ml.tr INFO                        early stopping:   0.00h\n",
      "05:28 madminer.utils.ml.tr INFO                          report epoch:   0.00h\n",
      "05:28 madminer.ml          INFO    Saving model to models/scandal\n"
     ]
    }
   ],
   "source": [
    "estimator.train(\n",
    "    method='scandal',\n",
    "    theta='data/samples/theta_train_density.npy',\n",
    "    x='data/samples/x_train_density.npy',\n",
    "    t_xz='data/samples/t_xz_train_density.npy',\n",
    "    alpha=10.,\n",
    "    n_epochs=10,\n",
    "    initial_lr=0.01,\n",
    ")\n",
    "\n",
    "estimator.save('models/scandal')"
   ]
  },
  {
   "cell_type": "markdown",
   "metadata": {},
   "source": [
    "(nll:  3.830, mse_score:  0.064"
   ]
  },
  {
   "cell_type": "markdown",
   "metadata": {},
   "source": [
    "## 3. Evaluate likelihood estimator"
   ]
  },
  {
   "cell_type": "markdown",
   "metadata": {},
   "source": [
    "`estimator.evaluate_log_likelihood(theta,x)` estimated the log likelihood for all combination between the given phase-space points `x` and parameters `theta`. That is, if given 100 events `x` and a grid of 25 `theta` points, it will return 25\\*100 estimates for the log likelihood, indexed by `[i_theta,i_x]`."
   ]
  },
  {
   "cell_type": "code",
   "execution_count": 8,
   "metadata": {},
   "outputs": [],
   "source": [
    "theta_each = np.linspace(-1.,1.,25)\n",
    "theta0, theta1 = np.meshgrid(theta_each, theta_each)\n",
    "theta_grid = np.vstack((theta0.flatten(), theta1.flatten())).T\n",
    "np.save('data/samples/theta_grid.npy', theta_grid)\n"
   ]
  },
  {
   "cell_type": "code",
   "execution_count": 9,
   "metadata": {},
   "outputs": [
    {
     "name": "stderr",
     "output_type": "stream",
     "text": [
      "05:28 madminer.ml          INFO    Loading model from models/scandal\n",
      "05:28 madminer.utils.vario INFO      Loading data/samples/theta_grid.npy into RAM\n",
      "05:28 madminer.utils.vario INFO      Loading data/samples/x_test.npy into RAM\n",
      "05:28 madminer.ml          INFO    Starting ratio evaluation for 625000 x-theta combinations\n",
      "05:28 madminer.ml          INFO    Evaluation done\n"
     ]
    }
   ],
   "source": [
    "estimator.load('models/scandal')\n",
    "\n",
    "log_p_hat, _ = estimator.evaluate_log_likelihood(\n",
    "    theta='data/samples/theta_grid.npy',\n",
    "    x='data/samples/x_test.npy',\n",
    "    evaluate_score=False\n",
    ")"
   ]
  },
  {
   "cell_type": "markdown",
   "metadata": {},
   "source": [
    "Let's look at the result:"
   ]
  },
  {
   "cell_type": "code",
   "execution_count": 10,
   "metadata": {},
   "outputs": [
    {
     "data": {
      "image/png": "[encoded data removed]",
      "text/plain": [
       "<Figure size 432x360 with 2 Axes>"
      ]
     },
     "metadata": {
      "needs_background": "light"
     },
     "output_type": "display_data"
    }
   ],
   "source": [
    "bin_size = theta_each[1] - theta_each[0]\n",
    "edges = np.linspace(theta_each[0] - bin_size/2, theta_each[-1] + bin_size/2, len(theta_each)+1)\n",
    "\n",
    "fig = plt.figure(figsize=(6,5))\n",
    "ax = plt.gca()\n",
    "\n",
    "expected_llr = np.mean(log_p_hat,axis=1)\n",
    "best_fit = theta_grid[np.argmin(-2.*expected_llr)]\n",
    "\n",
    "cmin, cmax = np.min(-2*expected_llr), np.max(-2*expected_llr)\n",
    "    \n",
    "pcm = ax.pcolormesh(edges, edges, -2. * expected_llr.reshape((25,25)),\n",
    "                    norm=matplotlib.colors.Normalize(vmin=cmin, vmax=cmax),\n",
    "                    cmap='viridis_r')\n",
    "cbar = fig.colorbar(pcm, ax=ax, extend='both')\n",
    "\n",
    "plt.scatter(best_fit[0], best_fit[1], s=80., color='black', marker='*')\n",
    "\n",
    "plt.xlabel(r'$\\theta_0$')\n",
    "plt.ylabel(r'$\\theta_1$')\n",
    "cbar.set_label(r'$\\mathbb{E}_x [ -2\\, \\log \\,\\hat{r}(x | \\theta, \\theta_{SM}) ]$')\n",
    "\n",
    "plt.tight_layout()\n",
    "plt.show()\n"
   ]
  },
  {
   "cell_type": "markdown",
   "metadata": {},
   "source": [
    "Note that in this tutorial our sample size was very small, and the network might not really have a chance to converge to the correct likelihood function. So don't worry if you find a minimum that is not at the right point (the SM, i.e. the origin in this plot). Feel free to dial up the event numbers in the run card as well as the training samples and see what happens then!"
   ]
  },
  {
   "cell_type": "code",
   "execution_count": null,
   "metadata": {},
   "outputs": [],
   "source": []
  },
  {
   "cell_type": "code",
   "execution_count": null,
   "metadata": {},
   "outputs": [],
   "source": []
  }
 ],
 "metadata": {
  "kernelspec": {
   "display_name": "Python 3",
   "language": "python",
   "name": "python3"
  },
  "language_info": {
   "codemirror_mode": {
    "name": "ipython",
    "version": 3
   },
   "file_extension": ".py",
   "mimetype": "text/x-python",
   "name": "python",
   "nbconvert_exporter": "python",
   "pygments_lexer": "ipython3",
   "version": "3.8.2"
  }
 },
 "nbformat": 4,
 "nbformat_minor": 2
}
