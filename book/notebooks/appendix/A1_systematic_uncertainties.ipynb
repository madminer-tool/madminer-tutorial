{
 "cells": [
  {
   "cell_type": "markdown",
   "metadata": {},
   "source": [
    "# Appendix 1: Adding systematic uncertainties\n",
    "\n",
    "Johann Brehmer, Felix Kling, Irina Espejo, and Kyle Cranmer 2018-2019"
   ]
  },
  {
   "cell_type": "markdown",
   "metadata": {},
   "source": [
    "In this tutorial we'll explain how to add systematic uncertainties to the MadMiner workflow. Note that the treatment of systematic uncertainties changed substantially with `MadMiner v0.6`, including changes to the MadMiner file specification. Please don't use files from older MadMiner versions with systematic uncertainties."
   ]
  },
  {
   "cell_type": "markdown",
   "metadata": {},
   "source": [
    "## Preparations"
   ]
  },
  {
   "cell_type": "markdown",
   "metadata": {},
   "source": [
    "Before you execute this notebook, make sure you have running installations of MadGraph, Pythia, and Delphes."
   ]
  },
  {
   "cell_type": "code",
   "execution_count": 1,
   "metadata": {},
   "outputs": [],
   "source": [
    "import logging\n",
    "import numpy as np\n",
    "import matplotlib\n",
    "from matplotlib import pyplot as plt\n",
    "%matplotlib inline\n",
    "\n",
    "from madminer.core import MadMiner\n",
    "from madminer.lhe import LHEReader\n",
    "from madminer.sampling import SampleAugmenter\n",
    "from madminer import sampling\n",
    "from madminer.ml import ScoreEstimator\n",
    "from madminer.fisherinformation import FisherInformation, profile_information, project_information\n",
    "from madminer.plotting import plot_systematics, plot_fisher_information_contours_2d\n"
   ]
  },
  {
   "cell_type": "markdown",
   "metadata": {},
   "source": [
    "Please enter here the path to your MG5 root directory."
   ]
  },
  {
   "cell_type": "code",
   "execution_count": 3,
   "metadata": {},
   "outputs": [],
   "source": [
    "mg_dir = \"/madminer/software/MG5_amC_v2_6_7/\""
   ]
  },
  {
   "cell_type": "markdown",
   "metadata": {},
   "source": [
    "MadMiner uses the Python `logging` module to provide additional information and debugging output. You can choose how much of this output you want to see by switching the level in the following lines to `logging.DEBUG` or `logging.WARNING`."
   ]
  },
  {
   "cell_type": "code",
   "execution_count": 4,
   "metadata": {},
   "outputs": [],
   "source": [
    "# MadMiner output\n",
    "logging.basicConfig(\n",
    "    format='%(asctime)-5.5s %(name)-20.20s %(levelname)-7.7s %(message)s',\n",
    "    datefmt='%H:%M',\n",
    "    level=logging.DEBUG\n",
    ")\n",
    "\n",
    "# Output of all other modules (e.g. matplotlib)\n",
    "for key in logging.Logger.manager.loggerDict:\n",
    "    if \"madminer\" not in key:\n",
    "        logging.getLogger(key).setLevel(logging.WARNING)"
   ]
  },
  {
   "cell_type": "markdown",
   "metadata": {},
   "source": [
    "## 1. Parameters and benchmarks"
   ]
  },
  {
   "cell_type": "markdown",
   "metadata": {},
   "source": [
    "We'll just load the MadMiner setup from the first part of this tutorial:"
   ]
  },
  {
   "cell_type": "code",
   "execution_count": 5,
   "metadata": {},
   "outputs": [
    {
     "name": "stderr",
     "output_type": "stream",
     "text": [
      "16:19 madminer.utils.inter DEBUG   HDF5 file does not contain is_reference field.\n",
      "16:19 madminer.core        INFO    Found 2 parameters:\n",
      "16:19 madminer.core        INFO       CWL2 (LHA: dim6 2, maximal power in squared ME: (2,), range: (-20.0, 20.0))\n",
      "16:19 madminer.core        INFO       CPWL2 (LHA: dim6 5, maximal power in squared ME: (2,), range: (-20.0, 20.0))\n",
      "16:19 madminer.core        INFO    Found 6 benchmarks:\n",
      "16:19 madminer.core        INFO       sm: CWL2 = 0.00e+00, CPWL2 = 0.00e+00\n",
      "16:19 madminer.core        INFO       w: CWL2 = 15.20, CPWL2 = 0.10\n",
      "16:19 madminer.core        INFO       neg_w: CWL2 = -1.54e+01, CPWL2 = 0.20\n",
      "16:19 madminer.core        INFO       ww: CWL2 = 0.30, CPWL2 = 15.10\n",
      "16:19 madminer.core        INFO       neg_ww: CWL2 = 0.40, CPWL2 = -1.53e+01\n",
      "16:19 madminer.core        INFO       morphing_basis_vector_5: CWL2 = -1.58e+01, CPWL2 = -1.94e+01\n",
      "16:19 madminer.core        INFO    Found morphing setup with 6 components\n",
      "16:19 madminer.core        INFO    Did not find systematics setup.\n"
     ]
    }
   ],
   "source": [
    "miner = MadMiner()\n",
    "miner.load('data/setup.h5')"
   ]
  },
  {
   "cell_type": "markdown",
   "metadata": {},
   "source": [
    "## 2. Set up systematics, save settings"
   ]
  },
  {
   "cell_type": "markdown",
   "metadata": {},
   "source": [
    "This is where things become interesting: We want to model systematic uncertainties. The main function is `add_systematics()`, the keyword `effect` determines how the effect of the nuisance parameters on the event weights is calculated. For `effect=\"norm\"`, the nuisance parameter rescales thee overall cross section of one or multiple samples. For `effect=\"pdf\"`, its effect is calculated with PDF variations. Finally, with `effect=\"scale\"` scale variations are used.\n",
    "\n",
    "Here we consider three nuisance parameters: one for the signal normalization, one for the background normalization, and one for scale uncertainties (which we here assume to be correlated between signal and background)."
   ]
  },
  {
   "cell_type": "code",
   "execution_count": 6,
   "metadata": {},
   "outputs": [],
   "source": [
    "miner.add_systematics(effect=\"norm\", systematic_name=\"signal_norm\", norm_variation=1.1)\n",
    "miner.add_systematics(effect=\"norm\", systematic_name=\"bkg_norm\", norm_variation=1.2)\n",
    "miner.add_systematics(effect=\"scale\", systematic_name=\"scales\", scale=\"mu\")"
   ]
  },
  {
   "cell_type": "markdown",
   "metadata": {},
   "source": [
    "Again, we save our setup:"
   ]
  },
  {
   "cell_type": "code",
   "execution_count": 7,
   "metadata": {},
   "outputs": [
    {
     "name": "stderr",
     "output_type": "stream",
     "text": [
      "16:19 madminer.core        INFO    Saving setup (including morphing) to data/setup_systematics.h5\n"
     ]
    }
   ],
   "source": [
    "miner.save('data/setup_systematics.h5')"
   ]
  },
  {
   "cell_type": "markdown",
   "metadata": {},
   "source": [
    "## 3. Run MadGraph"
   ]
  },
  {
   "cell_type": "markdown",
   "metadata": {},
   "source": [
    "Now it's time to run MadGraph. MadMiner will instruct MadGraph to use its built-in `systematics` tool to calculate how the event weights change under the scale variation."
   ]
  },
  {
   "cell_type": "code",
   "execution_count": 8,
   "metadata": {},
   "outputs": [
    {
     "name": "stderr",
     "output_type": "stream",
     "text": [
      "16:20 madminer.utils.inter INFO    Generating MadGraph process folder from cards/proc_card_signal.dat at ./mg_processes/signal_systematics\n",
      "16:20 madminer.core        INFO    Run 0\n",
      "16:20 madminer.core        INFO      Sampling from benchmark: sm\n",
      "16:20 madminer.core        INFO      Original run card:       cards/run_card_signal_small.dat\n",
      "16:20 madminer.core        INFO      Original Pythia8 card:   None\n",
      "16:20 madminer.core        INFO      Original config card:    None\n",
      "16:20 madminer.core        INFO      Copied run card:         /madminer/cards/run_card_0.dat\n",
      "16:20 madminer.core        INFO      Copied Pythia8 card:     None\n",
      "16:20 madminer.core        INFO      Copied config card:      None\n",
      "16:20 madminer.core        INFO      Param card:              /madminer/cards/param_card_0.dat\n",
      "16:20 madminer.core        INFO      Reweight card:           /madminer/cards/reweight_card_0.dat\n",
      "16:20 madminer.core        INFO      Log file:                run_0.log\n",
      "16:20 madminer.core        INFO    Creating param and reweight cards in ./mg_processes/signal_systematics//madminer/cards/param_card_0.dat, ./mg_processes/signal_systematics//madminer/cards/reweight_card_0.dat\n",
      "16:20 madminer.utils.inter INFO    Starting MadGraph and Pythia in ./mg_processes/signal_systematics\n",
      "16:23 madminer.core        INFO    Finished running MadGraph! Please check that events were succesfully generated in the following folders:\n",
      "\n",
      "./mg_processes/signal_systematics/Events/run_01\n",
      "\n",
      "\n"
     ]
    }
   ],
   "source": [
    "miner.run(\n",
    "    sample_benchmark='sm',\n",
    "    mg_directory=mg_dir,\n",
    "    mg_process_directory='./mg_processes/signal_systematics',\n",
    "    proc_card_file='cards/proc_card_signal.dat',\n",
    "    param_card_template_file='cards/param_card_template.dat',\n",
    "    run_card_file='cards/run_card_signal_small.dat',\n",
    "    log_directory='logs/signal',\n",
    "    python2_override=True,\n",
    "    systematics=[\"signal_norm\", \"scales\"],\n",
    ")"
   ]
  },
  {
   "cell_type": "code",
   "execution_count": null,
   "metadata": {},
   "outputs": [
    {
     "name": "stderr",
     "output_type": "stream",
     "text": [
      "16:23 madminer.utils.inter INFO    Generating MadGraph process folder from cards/proc_card_background.dat at ./mg_processes/bkg_systematics\n",
      "16:23 madminer.core        INFO    Run 0\n",
      "16:23 madminer.core        INFO      Sampling from benchmark: sm\n",
      "16:23 madminer.core        INFO      Original run card:       cards/run_card_background.dat\n",
      "16:23 madminer.core        INFO      Original Pythia8 card:   None\n",
      "16:23 madminer.core        INFO      Original config card:    None\n",
      "16:23 madminer.core        INFO      Copied run card:         /madminer/cards/run_card_0.dat\n",
      "16:23 madminer.core        INFO      Copied Pythia8 card:     None\n",
      "16:23 madminer.core        INFO      Copied config card:      None\n",
      "16:23 madminer.core        INFO      Param card:              /madminer/cards/param_card_0.dat\n",
      "16:23 madminer.core        INFO      Reweight card:           /madminer/cards/reweight_card_0.dat\n",
      "16:23 madminer.core        INFO      Log file:                run_0.log\n",
      "16:23 madminer.core        INFO    Creating param and reweight cards in ./mg_processes/bkg_systematics//madminer/cards/param_card_0.dat, ./mg_processes/bkg_systematics//madminer/cards/reweight_card_0.dat\n",
      "16:23 madminer.utils.inter INFO    Starting MadGraph and Pythia in ./mg_processes/bkg_systematics\n"
     ]
    }
   ],
   "source": [
    "miner.run(\n",
    "    sample_benchmark='sm',\n",
    "    mg_directory=mg_dir,\n",
    "    mg_process_directory='./mg_processes/bkg_systematics',\n",
    "    proc_card_file='cards/proc_card_background.dat',\n",
    "    param_card_template_file='cards/param_card_template.dat',\n",
    "    run_card_file='cards/run_card_background.dat',\n",
    "    log_directory='logs/background',\n",
    "    python2_override=True,\n",
    "    systematics=[\"bkg_norm\", \"scales\"],\n",
    ")"
   ]
  },
  {
   "cell_type": "markdown",
   "metadata": {},
   "source": [
    "## 4. Load events from LHE file"
   ]
  },
  {
   "cell_type": "markdown",
   "metadata": {},
   "source": [
    "When adding LHE or Delphes files, use the `systematics` keyword to list which systematic uncertainties apply to which sample:"
   ]
  },
  {
   "cell_type": "code",
   "execution_count": null,
   "metadata": {},
   "outputs": [],
   "source": [
    "lhe = LHEReader('data/setup_systematics.h5')\n",
    "\n",
    "lhe.add_sample(\n",
    "    lhe_filename='mg_processes/signal_systematics/Events/run_01/unweighted_events.lhe.gz',\n",
    "    sampled_from_benchmark='sm',\n",
    "    is_background=False,\n",
    "    k_factor=1.1,\n",
    "    systematics=[\"signal_norm\", \"scales\"]\n",
    ")\n",
    "\n",
    "lhe.add_sample(\n",
    "    lhe_filename='mg_processes/bkg_systematics/Events/run_01/unweighted_events.lhe.gz',\n",
    "    sampled_from_benchmark='sm',\n",
    "    is_background=True,\n",
    "    k_factor=1.1,\n",
    "    systematics=[\"bkg_norm\", \"scales\"]\n",
    ")"
   ]
  },
  {
   "cell_type": "markdown",
   "metadata": {},
   "source": [
    "The next steps are unaffected by systematics."
   ]
  },
  {
   "cell_type": "code",
   "execution_count": null,
   "metadata": {},
   "outputs": [],
   "source": [
    "lhe.set_smearing(\n",
    "    pdgids=[1,2,3,4,5,6,9,21,-1,-2,-3,-4,-5,-6],   # Partons giving rise to jets\n",
    "    energy_resolution_abs=0.,\n",
    "    energy_resolution_rel=0.1,\n",
    "    pt_resolution_abs=None,\n",
    "    pt_resolution_rel=None,\n",
    "    eta_resolution_abs=0.1,\n",
    "    eta_resolution_rel=0.,\n",
    "    phi_resolution_abs=0.1,\n",
    "    phi_resolution_rel=0.,\n",
    ")\n",
    "\n",
    "lhe.add_observable(\n",
    "    'pt_j1',\n",
    "    'j[0].pt',\n",
    "    required=False,\n",
    "    default=0.,\n",
    ")\n",
    "lhe.add_observable(\n",
    "    'delta_phi_jj',\n",
    "    'j[0].deltaphi(j[1]) * (-1. + 2.*float(j[0].eta > j[1].eta))',\n",
    "    required=True,\n",
    ")\n",
    "lhe.add_observable(\n",
    "    'met',\n",
    "    'met.pt',\n",
    "    required=True,\n",
    ")\n",
    "\n",
    "lhe.add_cut('(a[0] + a[1]).m > 122.')\n",
    "lhe.add_cut('(a[0] + a[1]).m < 128.')\n",
    "lhe.add_cut('pt_j1 > 30.')"
   ]
  },
  {
   "cell_type": "code",
   "execution_count": null,
   "metadata": {
    "scrolled": false
   },
   "outputs": [],
   "source": [
    "lhe.analyse_samples()\n",
    "lhe.save('data/lhe_data_systematics.h5')"
   ]
  },
  {
   "cell_type": "markdown",
   "metadata": {},
   "source": [
    "### A look at distributions"
   ]
  },
  {
   "cell_type": "markdown",
   "metadata": {},
   "source": [
    "The function `plot_systematics()` makes it easy to check the effect of the various nuisance parameters on a distribution:"
   ]
  },
  {
   "cell_type": "code",
   "execution_count": null,
   "metadata": {},
   "outputs": [],
   "source": [
    "plot_systematics?"
   ]
  },
  {
   "cell_type": "code",
   "execution_count": null,
   "metadata": {},
   "outputs": [],
   "source": [
    "_ = plot_systematics(\n",
    "    filename='data/lhe_data_systematics.h5',\n",
    "    theta=np.array([0.,0.]),\n",
    "    observable=\"pt_j1\",\n",
    "    obs_label=\"$p_{T,j}$\",\n",
    "    obs_range=(30.,400.),\n",
    "    ratio_range=(0.7,1.4)\n",
    ")"
   ]
  },
  {
   "cell_type": "code",
   "execution_count": null,
   "metadata": {},
   "outputs": [],
   "source": [
    "_ = plot_systematics(\n",
    "    filename='data/lhe_data_systematics.h5',\n",
    "    theta=np.array([0.,0.]),\n",
    "    observable=\"delta_phi_jj\",\n",
    "    obs_label=r\"$\\Delta\\phi$\",\n",
    "    obs_range=(-3.1,3.1),\n",
    "    ratio_range=(0.7,1.4)\n",
    ")"
   ]
  },
  {
   "cell_type": "markdown",
   "metadata": {},
   "source": [
    "## 5. Sampling"
   ]
  },
  {
   "cell_type": "markdown",
   "metadata": {},
   "source": [
    "Let's generate training data for the SALLY method."
   ]
  },
  {
   "cell_type": "code",
   "execution_count": null,
   "metadata": {},
   "outputs": [],
   "source": [
    "sampler = SampleAugmenter('data/lhe_data_systematics.h5', include_nuisance_parameters=True)\n",
    "\n",
    "x, theta, t_xz, _ = sampler.sample_train_local(\n",
    "    theta=sampling.benchmark('sm'),\n",
    "    n_samples=100000,\n",
    "    folder='./data/samples',\n",
    "    filename='train_score_systematics'\n",
    ")"
   ]
  },
  {
   "cell_type": "markdown",
   "metadata": {},
   "source": [
    "## 6. Training"
   ]
  },
  {
   "cell_type": "markdown",
   "metadata": {},
   "source": [
    "The SALLY estimator will learn the score in terms of both the physics parameters and the nuisance parameters. In our case, its output will therefore be a vector with five components."
   ]
  },
  {
   "cell_type": "code",
   "execution_count": null,
   "metadata": {},
   "outputs": [],
   "source": [
    "estimator = ScoreEstimator(n_hidden=(50,))\n",
    "\n",
    "estimator.train(\n",
    "    method='sally',\n",
    "    x='data/samples/x_train_score_systematics.npy',\n",
    "    t_xz='data/samples/t_xz_train_score_systematics.npy',\n",
    ")\n",
    "\n",
    "estimator.save('models/sally_systematics')"
   ]
  },
  {
   "cell_type": "markdown",
   "metadata": {},
   "source": [
    "## 7. Fisher information"
   ]
  },
  {
   "cell_type": "markdown",
   "metadata": {},
   "source": [
    "The Fisher information is now also a 5x5 matrix. Constraint terms on the nuisance parameters, representing our prior knowledge on their values, can be calculated with `FisherInformation.nuisance_constraint_information()`."
   ]
  },
  {
   "cell_type": "code",
   "execution_count": null,
   "metadata": {},
   "outputs": [],
   "source": [
    "fisher = FisherInformation('data/lhe_data_systematics.h5')"
   ]
  },
  {
   "cell_type": "code",
   "execution_count": null,
   "metadata": {},
   "outputs": [],
   "source": [
    "fisher.full_information?"
   ]
  },
  {
   "cell_type": "code",
   "execution_count": null,
   "metadata": {},
   "outputs": [],
   "source": [
    "info_sally, _ = fisher.full_information(\n",
    "    theta=np.zeros(5),\n",
    "    model_file='models/sally_systematics',\n",
    "    luminosity=1000000.,\n",
    "    include_xsec_info=False,\n",
    ")"
   ]
  },
  {
   "cell_type": "code",
   "execution_count": null,
   "metadata": {},
   "outputs": [],
   "source": [
    "info_nuisance = fisher.nuisance_constraint_information()\n",
    "info = info_sally + info_nuisance"
   ]
  },
  {
   "cell_type": "code",
   "execution_count": null,
   "metadata": {},
   "outputs": [],
   "source": [
    "for row in info:\n",
    "    print(\" \".join([\"{:6.2f}\".format(entry) for entry in row]))"
   ]
  },
  {
   "cell_type": "markdown",
   "metadata": {},
   "source": [
    "### Fisher contours and profiled information"
   ]
  },
  {
   "cell_type": "markdown",
   "metadata": {},
   "source": [
    "When looking at a subset of these five parameter, we can either ignore the other parameters (\"project\"), or conservatively pick the most pessimistic value of them (\"profile\" them). MadMiner provides the functions `profile_information()` and `project_information()` for this purpose. Let's do that for the parameter space of the two physics parameters:"
   ]
  },
  {
   "cell_type": "code",
   "execution_count": null,
   "metadata": {},
   "outputs": [],
   "source": [
    "info_proj = project_information(info, [0,1])\n",
    "info_prof = profile_information(info, [0,1])"
   ]
  },
  {
   "cell_type": "code",
   "execution_count": null,
   "metadata": {},
   "outputs": [],
   "source": [
    "_ = plot_fisher_information_contours_2d(\n",
    "    [info_proj, info_prof],\n",
    "    inline_labels=[\"Projected\", \"Profiled\"],\n",
    "    xrange=(-0.1,0.1),\n",
    "    yrange=(-0.1,0.1)\n",
    ")"
   ]
  },
  {
   "cell_type": "markdown",
   "metadata": {},
   "source": [
    "For illustration, we can look at just one physics parameter and one nuisance parameter:"
   ]
  },
  {
   "cell_type": "code",
   "execution_count": null,
   "metadata": {},
   "outputs": [],
   "source": [
    "info_demo = project_information(info, [0, 4])\n",
    "\n",
    "info_demo_profiled = np.zeros((2,2))\n",
    "info_demo_profiled[0,0] = profile_information(info_demo, [0,])"
   ]
  },
  {
   "cell_type": "code",
   "execution_count": null,
   "metadata": {},
   "outputs": [],
   "source": [
    "_ = plot_fisher_information_contours_2d(\n",
    "    [info_demo, info_demo_profiled],\n",
    "    inline_labels=[None, \"Profiled\"],\n",
    "    xrange=(-0.2,0.2),\n",
    "    yrange=(-0.6,0.6),\n",
    "    xlabel=\"Parameter of interest\",\n",
    "    ylabel=\"Nuisance parameter\",\n",
    ")"
   ]
  },
  {
   "cell_type": "code",
   "execution_count": null,
   "metadata": {},
   "outputs": [],
   "source": [
    "plot_fisher_information_contours_2d?"
   ]
  }
 ],
 "metadata": {
  "kernelspec": {
   "display_name": "Python 3",
   "language": "python",
   "name": "python3"
  },
  "language_info": {
   "codemirror_mode": {
    "name": "ipython",
    "version": 3
   },
   "file_extension": ".py",
   "mimetype": "text/x-python",
   "name": "python",
   "nbconvert_exporter": "python",
   "pygments_lexer": "ipython3",
   "version": "3.8.2"
  }
 },
 "nbformat": 4,
 "nbformat_minor": 2
}
