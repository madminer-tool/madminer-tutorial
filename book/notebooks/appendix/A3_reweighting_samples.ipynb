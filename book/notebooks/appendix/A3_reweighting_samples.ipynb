{
 "cells": [
  {
   "cell_type": "markdown",
   "metadata": {},
   "source": [
    "# Appendix 3: reweighting existing samples\n",
    "\n",
    "Johann Brehmer, Felix Kling, Irina Espejo, and Kyle Cranmer 2018-2019"
   ]
  },
  {
   "cell_type": "markdown",
   "metadata": {},
   "source": [
    "What if you already have a bunch of generated events, either simulated with MadMiner with a different benchmark setup, or with stand-alone MadGraph? MadMiner now lets you add the missing event weights to these files."
   ]
  },
  {
   "cell_type": "markdown",
   "metadata": {},
   "source": [
    "## 0. Preparations"
   ]
  },
  {
   "cell_type": "code",
   "execution_count": 1,
   "metadata": {},
   "outputs": [],
   "source": [
    "import logging\n",
    "import numpy as np\n",
    "import matplotlib\n",
    "from matplotlib import pyplot as plt\n",
    "%matplotlib inline\n",
    "\n",
    "from madminer.core import MadMiner\n"
   ]
  },
  {
   "cell_type": "markdown",
   "metadata": {},
   "source": [
    "MadMiner uses the Python `logging` module to provide additional information and debugging output. You can choose how much of this output you want to see by switching the level in the following lines to `logging.DEBUG` or `logging.WARNING`."
   ]
  },
  {
   "cell_type": "code",
   "execution_count": 2,
   "metadata": {},
   "outputs": [],
   "source": [
    "# MadMiner output\n",
    "logging.basicConfig(\n",
    "    format='%(asctime)-5.5s %(name)-20.20s %(levelname)-7.7s %(message)s',\n",
    "    datefmt='%H:%M',\n",
    "    level=logging.INFO\n",
    ")\n",
    "\n",
    "# Output of all other modules (e.g. matplotlib)\n",
    "for key in logging.Logger.manager.loggerDict:\n",
    "    if \"madminer\" not in key:\n",
    "        logging.getLogger(key).setLevel(logging.WARNING)"
   ]
  },
  {
   "cell_type": "markdown",
   "metadata": {},
   "source": [
    "## 1. Original event sample"
   ]
  },
  {
   "cell_type": "markdown",
   "metadata": {},
   "source": [
    "We'll start with the event sample from the main tutorial, and assume we forgot to add one benchmark we *really* care about before starting the event generation. Let's try to add this benchmark (and the corresponding weights) after generating the events!\n",
    "\n",
    "We will assume that you have generated events according to the following settings, please adapt them if necessary:"
   ]
  },
  {
   "cell_type": "code",
   "execution_count": 3,
   "metadata": {},
   "outputs": [],
   "source": [
    "mg_process_dir = \"mg_processes/signal1\"\n",
    "run_name = \"run_01\"\n",
    "sampling_benchmark = \"sm\""
   ]
  },
  {
   "cell_type": "markdown",
   "metadata": {},
   "source": [
    "## 2. Load setup and add new benchmark"
   ]
  },
  {
   "cell_type": "code",
   "execution_count": 4,
   "metadata": {},
   "outputs": [
    {
     "name": "stderr",
     "output_type": "stream",
     "text": [
      "07:15 madminer.core        INFO    Found 2 parameters:\n",
      "07:15 madminer.core        INFO       CWL2 (LHA: dim6 2, maximal power in squared ME: (2,), range: (-20.0, 20.0))\n",
      "07:15 madminer.core        INFO       CPWL2 (LHA: dim6 5, maximal power in squared ME: (2,), range: (-20.0, 20.0))\n",
      "07:15 madminer.core        INFO    Found 6 benchmarks:\n",
      "07:15 madminer.core        INFO       sm: CWL2 = 0.00e+00, CPWL2 = 0.00e+00\n",
      "07:15 madminer.core        INFO       w: CWL2 = 15.20, CPWL2 = 0.10\n",
      "07:15 madminer.core        INFO       neg_w: CWL2 = -1.54e+01, CPWL2 = 0.20\n",
      "07:15 madminer.core        INFO       ww: CWL2 = 0.30, CPWL2 = 15.10\n",
      "07:15 madminer.core        INFO       neg_ww: CWL2 = 0.40, CPWL2 = -1.53e+01\n",
      "07:15 madminer.core        INFO       morphing_basis_vector_5: CWL2 = -1.68e+01, CPWL2 = -1.72e+01\n",
      "07:15 madminer.core        INFO    Found morphing setup with 6 components\n",
      "07:15 madminer.core        INFO    Did not find systematics setup.\n",
      "07:15 madminer.core        INFO    Added benchmark oh_shit_we_forgot_this: CWL2 = 10.00, CPWL2 = 8.00)\n",
      "07:15 madminer.core        INFO    Saving setup (including morphing) to data/setup_with_extra_benchmark.h5\n"
     ]
    }
   ],
   "source": [
    "miner = MadMiner()\n",
    "miner.load(\"data/setup.h5\")\n",
    "miner.add_benchmark({'CWL2':10., 'CPWL2':8.}, 'oh_shit_we_forgot_this')\n",
    "miner.save('data/setup_with_extra_benchmark.h5')\n"
   ]
  },
  {
   "cell_type": "markdown",
   "metadata": {},
   "source": [
    "This doesn't change the morphing setup (which always uses the first benchmarks, i.e. the ones that were already defined in the MadMiner file)."
   ]
  },
  {
   "cell_type": "markdown",
   "metadata": {},
   "source": [
    "## 3. Prepare reweighting"
   ]
  },
  {
   "cell_type": "markdown",
   "metadata": {},
   "source": [
    "Here's the crucial step. `reweight_benchmarks` is a list of all the benchmarks that the sample will be reweighted to -- this should *not* include the benchmarks for which the sample already contains weights."
   ]
  },
  {
   "cell_type": "code",
   "execution_count": 5,
   "metadata": {},
   "outputs": [
    {
     "name": "stderr",
     "output_type": "stream",
     "text": [
      "07:15 madminer.core        INFO    Reweighting setup\n",
      "07:15 madminer.core        INFO      Originally sampled from benchmark: sm\n",
      "07:15 madminer.core        INFO      Now reweighting to benchmarks:     ['oh_shit_we_forgot_this']\n",
      "07:15 madminer.core        INFO      Reweight card:                     /madminer/cards/reweight_card_reweight.dat\n",
      "07:15 madminer.core        INFO      Log file:                          reweight.log\n",
      "07:15 madminer.core        INFO    Creating param and reweight cards in mg_processes/signal1\n",
      "07:15 madminer.utils.inter INFO    Starting reweighting of an existing sample in mg_processes/signal1\n",
      "07:16 madminer.core        INFO    Finished running reweighting! Please check that events were succesfully reweighted in the following folder:\n",
      "\n",
      " mg_processes/signal1/Events/run_01 \n",
      "\n",
      "\n"
     ]
    }
   ],
   "source": [
    "miner.reweight_existing_sample(\n",
    "    mg_process_directory=mg_process_dir,\n",
    "    run_name=run_name,\n",
    "    param_card_template_file=\"Cards/param_card_template.dat\",\n",
    "    sample_benchmark=sampling_benchmark,\n",
    "    reweight_benchmarks=[\"oh_shit_we_forgot_this\"],\n",
    ")"
   ]
  }
 ],
 "metadata": {
  "kernelspec": {
   "display_name": "Python 3 (Higgs inference)",
   "language": "python",
   "name": "python3"
  },
  "language_info": {
   "codemirror_mode": {
    "name": "ipython",
    "version": 3
   },
   "file_extension": ".py",
   "mimetype": "text/x-python",
   "name": "python",
   "nbconvert_exporter": "python",
   "pygments_lexer": "ipython3",
   "version": "3.8.2"
  }
 },
 "nbformat": 4,
 "nbformat_minor": 2
}
